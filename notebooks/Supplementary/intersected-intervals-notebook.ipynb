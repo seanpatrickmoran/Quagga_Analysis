{
 "cells": [
  {
   "cell_type": "code",
   "execution_count": null,
   "id": "7c093272",
   "metadata": {},
   "outputs": [],
   "source": [
    "%%bash\n",
    "mkdir analysis\n",
    "mkdir analysis/v_or_h\n",
    "mkdir analysis/final\n",
    "mkdir analysis/v_or_h/setDifferences\n",
    "mkdir analysis/v_or_h/intersects"
   ]
  },
  {
   "cell_type": "code",
   "execution_count": 54,
   "id": "bb25519c",
   "metadata": {},
   "outputs": [],
   "source": [
    "%%bash\n",
    "prefix=\"./data_files/10KQuaggaCalls/\"\n",
    "sourcefile=\"10000nt_MR10000000_ML50000_MD2000000_MW80000_WS2_SG1RH0.1_NSTR2_WholeGenome_hg38_GM12878_width_filtered.txt\"\n",
    "zebra='../040425/APA/original_plus/Quagga_Analysis/notebooks/stripe_results/GM12878.bedpe'\n",
    "stripenn='../040425/APA/original_plus/Quagga_Analysis/notebooks/stripe_results/results_filtered.tsv'\n",
    "\n",
    "awk '$3 - $2 <= $6 - $5 { OFS = \"\\t\"; print $1, $2, $3, $4, $5, $6, $7 }' ${prefix}${sourcefile} > ./analysis/v_or_h/q_5prime.txt\n",
    "awk '$3 - $2 > $6 - $5 { OFS = \"\\t\"; print $1, $2, $3, $4, $5, $6, $7 }' ${prefix}${sourcefile} > ./analysis/v_or_h/q_3prime.txt\n",
    "\n",
    "awk '$3 - $2 <= $6 - $5 { OFS = \"\\t\"; print $1, $2, $3, $4, $5, $6, $7 }' ${zebra} > ./analysis/v_or_h/z_5prime.txt\n",
    "awk '$3 - $2 > $6 - $5 { OFS = \"\\t\"; print $1, $2, $3, $4, $5, $6, $7 }' ${zebra} > ./analysis/v_or_h/z_3prime.txt\n",
    "\n",
    "# stripenn has different\n",
    "awk -F'\\t' '{ if (int($2) == int($5)) print $1, $2, $3, $4, $5, $6, $7 }' ${stripenn} > ./analysis/v_or_h/s_5prime.txt\n",
    "awk -F'\\t' '{ if (int($2) != int($5)) print $1, $2, $3, $4, $5, $6, $7 }' ${stripenn} > ./analysis/v_or_h/s_3prime.txt\n",
    "\n",
    "awk '{ OFS = \"\\t\"; print $1, $2, $3 }' ./analysis/v_or_h/q_5prime.txt > ./analysis/v_or_h/q_5prime_cut.txt\n",
    "awk '{ OFS = \"\\t\"; print $1, $2, $3 }' ./analysis/v_or_h/z_5prime.txt > ./analysis/v_or_h/z_5prime_cut.txt\n",
    "awk '{ OFS = \"\\t\"; print $1, $2, $3 }' ./analysis/v_or_h/s_5prime.txt > ./analysis/v_or_h/s_5prime_cut.txt\n",
    "\n",
    "awk '{ OFS = \"\\t\"; print $4, $5, $6 }' ./analysis/v_or_h/q_3prime.txt > ./analysis/v_or_h/q_3prime_cut.txt\n",
    "awk '{ OFS = \"\\t\"; print $4, $5, $6 }' ./analysis/v_or_h/z_3prime.txt > ./analysis/v_or_h/z_3prime_cut.txt\n",
    "awk '{ OFS = \"\\t\"; print $4, $5, $6 }' ./analysis/v_or_h/s_3prime.txt > ./analysis/v_or_h/s_3prime_cut.txt\n"
   ]
  },
  {
   "cell_type": "code",
   "execution_count": 79,
   "id": "77b384ce",
   "metadata": {},
   "outputs": [],
   "source": [
    "%%bash\n",
    "# use uniq, as many can fit within larger stripes.\n",
    "bedtools intersect -wa -a ./analysis/v_or_h/q_5prime_cut.txt -b ./analysis/v_or_h/z_5prime_cut.txt| uniq  > ./analysis/v_or_h/intersects/q_int_z_5prime_cut.txt\n",
    "bedtools intersect -wa -a ./analysis/v_or_h/q_3prime_cut.txt -b ./analysis/v_or_h/z_3prime_cut.txt| uniq  > ./analysis/v_or_h/intersects/q_int_z_3prime_cut.txt\n",
    "\n",
    "bedtools intersect -wa -a ./analysis/v_or_h/q_5prime_cut.txt -b ./analysis/v_or_h/s_5prime_cut.txt| uniq  > ./analysis/v_or_h/intersects/q_int_s_5prime_cut.txt\n",
    "bedtools intersect -wa -a ./analysis/v_or_h/q_3prime_cut.txt -b ./analysis/v_or_h/s_3prime_cut.txt| uniq  > ./analysis/v_or_h/intersects/q_int_s_3prime_cut.txt\n",
    "\n",
    "\n",
    "\n",
    "bedtools intersect -wa -a ./analysis/v_or_h/z_5prime_cut.txt -b ./analysis/v_or_h/q_5prime_cut.txt| uniq  > ./analysis/v_or_h/intersects/z_int_q_5prime_cut.txt\n",
    "bedtools intersect -wa -a ./analysis/v_or_h/z_3prime_cut.txt -b ./analysis/v_or_h/q_3prime_cut.txt| uniq  > ./analysis/v_or_h/intersects/z_int_q_3prime_cut.txt\n",
    "\n",
    "bedtools intersect -wa -a ./analysis/v_or_h/z_5prime_cut.txt -b ./analysis/v_or_h/s_5prime_cut.txt| uniq  > ./analysis/v_or_h/intersects/z_int_s_5prime_cut.txt\n",
    "bedtools intersect -wa -a ./analysis/v_or_h/z_3prime_cut.txt -b ./analysis/v_or_h/s_3prime_cut.txt| uniq  > ./analysis/v_or_h/intersects/z_int_s_3prime_cut.txt\n",
    "\n",
    "\n",
    "\n",
    "bedtools intersect -wa -a ./analysis/v_or_h/s_5prime_cut.txt -b ./analysis/v_or_h/q_5prime_cut.txt| uniq  > ./analysis/v_or_h/intersects/s_int_q_5prime_cut.txt\n",
    "bedtools intersect -wa -a ./analysis/v_or_h/s_3prime_cut.txt -b ./analysis/v_or_h/q_3prime_cut.txt| uniq  > ./analysis/v_or_h/intersects/s_int_q_3prime_cut.txt\n",
    "\n",
    "bedtools intersect -wa -a ./analysis/v_or_h/s_5prime_cut.txt -b ./analysis/v_or_h/z_5prime_cut.txt| uniq  > ./analysis/v_or_h/intersects/s_int_z_5prime_cut.txt\n",
    "bedtools intersect -wa -a ./analysis/v_or_h/s_3prime_cut.txt -b ./analysis/v_or_h/z_3prime_cut.txt| uniq  > ./analysis/v_or_h/intersects/s_int_z_3prime_cut.txt\n",
    "\n",
    "\n",
    "\n",
    "# Intersection between all tools, perspective of q_*, s_*, or z_*\n",
    "\n",
    "bedtools intersect -wa -a ./analysis/v_or_h/intersects/q_int_z_5prime_cut.txt -b ./analysis/v_or_h/s_5prime_cut.txt| uniq  > ./analysis/v_or_h/intersects/q_int_zs_5prime_cut.txt\n",
    "bedtools intersect -wa -a ./analysis/v_or_h/intersects/q_int_z_3prime_cut.txt -b ./analysis/v_or_h/s_3prime_cut.txt| uniq  > ./analysis/v_or_h/intersects/q_int_zs_3prime_cut.txt\n",
    "\n",
    "bedtools intersect -wa -a ./analysis/v_or_h/intersects/s_int_z_5prime_cut.txt -b ./analysis/v_or_h/q_5prime_cut.txt| uniq  > ./analysis/v_or_h/intersects/s_int_zq_5prime_cut.txt\n",
    "bedtools intersect -wa -a ./analysis/v_or_h/intersects/s_int_z_3prime_cut.txt -b ./analysis/v_or_h/q_3prime_cut.txt| uniq  > ./analysis/v_or_h/intersects/s_int_zq_3prime_cut.txt\n",
    "\n",
    "bedtools intersect -wa -a ./analysis/v_or_h/intersects/z_int_q_5prime_cut.txt -b ./analysis/v_or_h/s_5prime_cut.txt| uniq  > ./analysis/v_or_h/intersects/z_int_qs_5prime_cut.txt\n",
    "bedtools intersect -wa -a ./analysis/v_or_h/intersects/z_int_q_3prime_cut.txt -b ./analysis/v_or_h/s_3prime_cut.txt| uniq  > ./analysis/v_or_h/intersects/z_int_qs_3prime_cut.txt\n"
   ]
  },
  {
   "cell_type": "code",
   "execution_count": 85,
   "id": "d34d4471",
   "metadata": {},
   "outputs": [
    {
     "name": "stdout",
     "output_type": "stream",
     "text": [
      "   570 analysis/v_or_h/intersects/q_int_s_3prime_cut.txt\r\n",
      "   179 analysis/v_or_h/intersects/q_int_s_5prime_cut.txt\r\n",
      "   570 analysis/v_or_h/intersects/q_int_s_uniq_3prime_cut.txt\r\n",
      "   179 analysis/v_or_h/intersects/q_int_s_uniq_5prime_cut.txt\r\n",
      "   685 analysis/v_or_h/intersects/q_int_z_3prime_cut.txt\r\n",
      "   599 analysis/v_or_h/intersects/q_int_z_5prime_cut.txt\r\n",
      "   255 analysis/v_or_h/intersects/q_int_zs_3prime_cut.txt\r\n",
      "   119 analysis/v_or_h/intersects/q_int_zs_5prime_cut.txt\r\n",
      "   685 analysis/v_or_h/intersects/q_int_z_uniq_3prime_cut.txt\r\n",
      "   599 analysis/v_or_h/intersects/q_int_z_uniq_5prime_cut.txt\r\n",
      "   423 analysis/v_or_h/intersects/s_int_q_3prime_cut.txt\r\n",
      "   179 analysis/v_or_h/intersects/s_int_q_5prime_cut.txt\r\n",
      "   364 analysis/v_or_h/intersects/s_int_z_3prime_cut.txt\r\n",
      "   183 analysis/v_or_h/intersects/s_int_z_5prime_cut.txt\r\n",
      "   327 analysis/v_or_h/intersects/s_int_zq_3prime_cut.txt\r\n",
      "   124 analysis/v_or_h/intersects/s_int_zq_5prime_cut.txt\r\n",
      "   685 analysis/v_or_h/intersects/z_int_q_3prime_cut.txt\r\n",
      "   600 analysis/v_or_h/intersects/z_int_q_5prime_cut.txt\r\n",
      "   251 analysis/v_or_h/intersects/z_int_qs_3prime_cut.txt\r\n",
      "   117 analysis/v_or_h/intersects/z_int_qs_5prime_cut.txt\r\n",
      "   465 analysis/v_or_h/intersects/z_int_s_3prime_cut.txt\r\n",
      "   183 analysis/v_or_h/intersects/z_int_s_5prime_cut.txt\r\n",
      "  8341 total\r\n"
     ]
    }
   ],
   "source": [
    "!wc -l analysis/v_or_h/intersects/*.txt"
   ]
  }
 ],
 "metadata": {
  "kernelspec": {
   "display_name": "Python 3 (ipykernel)",
   "language": "python",
   "name": "python3"
  },
  "language_info": {
   "codemirror_mode": {
    "name": "ipython",
    "version": 3
   },
   "file_extension": ".py",
   "mimetype": "text/x-python",
   "name": "python",
   "nbconvert_exporter": "python",
   "pygments_lexer": "ipython3",
   "version": "3.9.13"
  }
 },
 "nbformat": 4,
 "nbformat_minor": 5
}
